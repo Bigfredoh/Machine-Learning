{
  "nbformat": 4,
  "nbformat_minor": 0,
  "metadata": {
    "colab": {
      "name": "Airline Twitter.ipynb",
      "provenance": [],
      "authorship_tag": "ABX9TyMWs9TclvdIa0QXmsexO/d0",
      "include_colab_link": true
    },
    "kernelspec": {
      "name": "python3",
      "display_name": "Python 3"
    },
    "language_info": {
      "name": "python"
    }
  },
  "cells": [
    {
      "cell_type": "markdown",
      "metadata": {
        "id": "view-in-github",
        "colab_type": "text"
      },
      "source": [
        "<a href=\"https://colab.research.google.com/github/Bigfredoh/Machine-Learning/blob/main/Airline_Twitter.ipynb\" target=\"_parent\"><img src=\"https://colab.research.google.com/assets/colab-badge.svg\" alt=\"Open In Colab\"/></a>"
      ]
    },
    {
      "cell_type": "markdown",
      "source": [
        "#Importing Libraries"
      ],
      "metadata": {
        "id": "fIAV-q38WkMk"
      }
    },
    {
      "cell_type": "code",
      "source": [
        "import pandas as pd\n",
        "import numpy as np"
      ],
      "metadata": {
        "id": "tCuE0kYeWlnQ"
      },
      "execution_count": 36,
      "outputs": []
    },
    {
      "cell_type": "markdown",
      "source": [
        "#Loading of Dataset"
      ],
      "metadata": {
        "id": "C_QRJks0Wpjd"
      }
    },
    {
      "cell_type": "code",
      "source": [
        "df= pd.read_csv('McDonalds-Sentiment.csv', encoding= 'unicode_escape')\n",
        "df.head()"
      ],
      "metadata": {
        "colab": {
          "base_uri": "https://localhost:8080/",
          "height": 600
        },
        "id": "oBCw91VyWtc0",
        "outputId": "1b6c609d-c5d9-4b0b-fc86-e8f98b03b18a"
      },
      "execution_count": 37,
      "outputs": [
        {
          "output_type": "execute_result",
          "data": {
            "text/html": [
              "\n",
              "  <div id=\"df-91daa90d-af1b-4f0e-ace4-e259d05b6ea8\">\n",
              "    <div class=\"colab-df-container\">\n",
              "      <div>\n",
              "<style scoped>\n",
              "    .dataframe tbody tr th:only-of-type {\n",
              "        vertical-align: middle;\n",
              "    }\n",
              "\n",
              "    .dataframe tbody tr th {\n",
              "        vertical-align: top;\n",
              "    }\n",
              "\n",
              "    .dataframe thead th {\n",
              "        text-align: right;\n",
              "    }\n",
              "</style>\n",
              "<table border=\"1\" class=\"dataframe\">\n",
              "  <thead>\n",
              "    <tr style=\"text-align: right;\">\n",
              "      <th></th>\n",
              "      <th>_unit_id</th>\n",
              "      <th>_golden</th>\n",
              "      <th>_unit_state</th>\n",
              "      <th>_trusted_judgments</th>\n",
              "      <th>_last_judgment_at</th>\n",
              "      <th>policies_violated</th>\n",
              "      <th>policies_violated:confidence</th>\n",
              "      <th>city</th>\n",
              "      <th>policies_violated_gold</th>\n",
              "      <th>review</th>\n",
              "    </tr>\n",
              "  </thead>\n",
              "  <tbody>\n",
              "    <tr>\n",
              "      <th>0</th>\n",
              "      <td>679455653</td>\n",
              "      <td>False</td>\n",
              "      <td>finalized</td>\n",
              "      <td>3</td>\n",
              "      <td>2/21/15 0:36</td>\n",
              "      <td>RudeService\\rOrderProblem\\rFilthy</td>\n",
              "      <td>1.0\\r0.6667\\r0.6667</td>\n",
              "      <td>Atlanta</td>\n",
              "      <td>NaN</td>\n",
              "      <td>I'm not a huge mcds lover, but I've been to be...</td>\n",
              "    </tr>\n",
              "    <tr>\n",
              "      <th>1</th>\n",
              "      <td>679455654</td>\n",
              "      <td>False</td>\n",
              "      <td>finalized</td>\n",
              "      <td>3</td>\n",
              "      <td>2/21/15 0:27</td>\n",
              "      <td>RudeService</td>\n",
              "      <td>1</td>\n",
              "      <td>Atlanta</td>\n",
              "      <td>NaN</td>\n",
              "      <td>Terrible customer service. Î¾I came in at 9:30...</td>\n",
              "    </tr>\n",
              "    <tr>\n",
              "      <th>2</th>\n",
              "      <td>679455655</td>\n",
              "      <td>False</td>\n",
              "      <td>finalized</td>\n",
              "      <td>3</td>\n",
              "      <td>2/21/15 0:26</td>\n",
              "      <td>SlowService\\rOrderProblem</td>\n",
              "      <td>1.0\\r1.0</td>\n",
              "      <td>Atlanta</td>\n",
              "      <td>NaN</td>\n",
              "      <td>First they \"lost\" my order, actually they gave...</td>\n",
              "    </tr>\n",
              "    <tr>\n",
              "      <th>3</th>\n",
              "      <td>679455656</td>\n",
              "      <td>False</td>\n",
              "      <td>finalized</td>\n",
              "      <td>3</td>\n",
              "      <td>2/21/15 0:27</td>\n",
              "      <td>na</td>\n",
              "      <td>0.6667</td>\n",
              "      <td>Atlanta</td>\n",
              "      <td>NaN</td>\n",
              "      <td>I see I'm not the only one giving 1 star. Only...</td>\n",
              "    </tr>\n",
              "    <tr>\n",
              "      <th>4</th>\n",
              "      <td>679455657</td>\n",
              "      <td>False</td>\n",
              "      <td>finalized</td>\n",
              "      <td>3</td>\n",
              "      <td>2/21/15 0:27</td>\n",
              "      <td>RudeService</td>\n",
              "      <td>1</td>\n",
              "      <td>Atlanta</td>\n",
              "      <td>NaN</td>\n",
              "      <td>Well, it's McDonald's, so you know what the fo...</td>\n",
              "    </tr>\n",
              "  </tbody>\n",
              "</table>\n",
              "</div>\n",
              "      <button class=\"colab-df-convert\" onclick=\"convertToInteractive('df-91daa90d-af1b-4f0e-ace4-e259d05b6ea8')\"\n",
              "              title=\"Convert this dataframe to an interactive table.\"\n",
              "              style=\"display:none;\">\n",
              "        \n",
              "  <svg xmlns=\"http://www.w3.org/2000/svg\" height=\"24px\"viewBox=\"0 0 24 24\"\n",
              "       width=\"24px\">\n",
              "    <path d=\"M0 0h24v24H0V0z\" fill=\"none\"/>\n",
              "    <path d=\"M18.56 5.44l.94 2.06.94-2.06 2.06-.94-2.06-.94-.94-2.06-.94 2.06-2.06.94zm-11 1L8.5 8.5l.94-2.06 2.06-.94-2.06-.94L8.5 2.5l-.94 2.06-2.06.94zm10 10l.94 2.06.94-2.06 2.06-.94-2.06-.94-.94-2.06-.94 2.06-2.06.94z\"/><path d=\"M17.41 7.96l-1.37-1.37c-.4-.4-.92-.59-1.43-.59-.52 0-1.04.2-1.43.59L10.3 9.45l-7.72 7.72c-.78.78-.78 2.05 0 2.83L4 21.41c.39.39.9.59 1.41.59.51 0 1.02-.2 1.41-.59l7.78-7.78 2.81-2.81c.8-.78.8-2.07 0-2.86zM5.41 20L4 18.59l7.72-7.72 1.47 1.35L5.41 20z\"/>\n",
              "  </svg>\n",
              "      </button>\n",
              "      \n",
              "  <style>\n",
              "    .colab-df-container {\n",
              "      display:flex;\n",
              "      flex-wrap:wrap;\n",
              "      gap: 12px;\n",
              "    }\n",
              "\n",
              "    .colab-df-convert {\n",
              "      background-color: #E8F0FE;\n",
              "      border: none;\n",
              "      border-radius: 50%;\n",
              "      cursor: pointer;\n",
              "      display: none;\n",
              "      fill: #1967D2;\n",
              "      height: 32px;\n",
              "      padding: 0 0 0 0;\n",
              "      width: 32px;\n",
              "    }\n",
              "\n",
              "    .colab-df-convert:hover {\n",
              "      background-color: #E2EBFA;\n",
              "      box-shadow: 0px 1px 2px rgba(60, 64, 67, 0.3), 0px 1px 3px 1px rgba(60, 64, 67, 0.15);\n",
              "      fill: #174EA6;\n",
              "    }\n",
              "\n",
              "    [theme=dark] .colab-df-convert {\n",
              "      background-color: #3B4455;\n",
              "      fill: #D2E3FC;\n",
              "    }\n",
              "\n",
              "    [theme=dark] .colab-df-convert:hover {\n",
              "      background-color: #434B5C;\n",
              "      box-shadow: 0px 1px 3px 1px rgba(0, 0, 0, 0.15);\n",
              "      filter: drop-shadow(0px 1px 2px rgba(0, 0, 0, 0.3));\n",
              "      fill: #FFFFFF;\n",
              "    }\n",
              "  </style>\n",
              "\n",
              "      <script>\n",
              "        const buttonEl =\n",
              "          document.querySelector('#df-91daa90d-af1b-4f0e-ace4-e259d05b6ea8 button.colab-df-convert');\n",
              "        buttonEl.style.display =\n",
              "          google.colab.kernel.accessAllowed ? 'block' : 'none';\n",
              "\n",
              "        async function convertToInteractive(key) {\n",
              "          const element = document.querySelector('#df-91daa90d-af1b-4f0e-ace4-e259d05b6ea8');\n",
              "          const dataTable =\n",
              "            await google.colab.kernel.invokeFunction('convertToInteractive',\n",
              "                                                     [key], {});\n",
              "          if (!dataTable) return;\n",
              "\n",
              "          const docLinkHtml = 'Like what you see? Visit the ' +\n",
              "            '<a target=\"_blank\" href=https://colab.research.google.com/notebooks/data_table.ipynb>data table notebook</a>'\n",
              "            + ' to learn more about interactive tables.';\n",
              "          element.innerHTML = '';\n",
              "          dataTable['output_type'] = 'display_data';\n",
              "          await google.colab.output.renderOutput(dataTable, element);\n",
              "          const docLink = document.createElement('div');\n",
              "          docLink.innerHTML = docLinkHtml;\n",
              "          element.appendChild(docLink);\n",
              "        }\n",
              "      </script>\n",
              "    </div>\n",
              "  </div>\n",
              "  "
            ],
            "text/plain": [
              "    _unit_id  ...                                             review\n",
              "0  679455653  ...  I'm not a huge mcds lover, but I've been to be...\n",
              "1  679455654  ...  Terrible customer service. Î¾I came in at 9:30...\n",
              "2  679455655  ...  First they \"lost\" my order, actually they gave...\n",
              "3  679455656  ...  I see I'm not the only one giving 1 star. Only...\n",
              "4  679455657  ...  Well, it's McDonald's, so you know what the fo...\n",
              "\n",
              "[5 rows x 10 columns]"
            ]
          },
          "metadata": {},
          "execution_count": 37
        }
      ]
    },
    {
      "cell_type": "code",
      "source": [
        "df.shape"
      ],
      "metadata": {
        "colab": {
          "base_uri": "https://localhost:8080/"
        },
        "id": "2fCR6zfjW0Ab",
        "outputId": "d2be6971-a769-4379-f74a-629dd39494e0"
      },
      "execution_count": 38,
      "outputs": [
        {
          "output_type": "execute_result",
          "data": {
            "text/plain": [
              "(1525, 10)"
            ]
          },
          "metadata": {},
          "execution_count": 38
        }
      ]
    },
    {
      "cell_type": "markdown",
      "source": [
        "# Cleaning the Review Column"
      ],
      "metadata": {
        "id": "fbgsbS04W_9b"
      }
    },
    {
      "cell_type": "code",
      "source": [
        "import string\n",
        "import re\n",
        "nltk.download('stopwords')\n",
        "import nltk\n",
        "from nltk.corpus import stopwords\n",
        "from nltk.stem.porter import PorterStemmer\n",
        "corpus = []\n",
        "for i in range(0, 1525):\n",
        "  ps = PorterStemmer()\n",
        "  review = df['review'][i]\n",
        "  review = ''.join(i for i in review if ord(i)<128)\n",
        "  review = review.lower()\n",
        "  remove_num=re.sub(r'\\d+','',review)\n",
        "  remove_punc = remove_num.translate(str.maketrans('','',string.punctuation))\n",
        "  remove_white_space =  remove_punc.strip()\n",
        "  all_stopwords = stopwords.words('english')\n",
        "  all_stopwords.remove('not')\n",
        "  review = ([ps.stem(word) for word in remove_white_space.split() if word not in set()])\n",
        "  review = ' '.join(review)\n",
        "  corpus.append(review)"
      ],
      "metadata": {
        "colab": {
          "base_uri": "https://localhost:8080/"
        },
        "id": "cihjEoPcXDhC",
        "outputId": "bd5e56b2-d464-4d7e-c5a5-f283aaa5523b"
      },
      "execution_count": 39,
      "outputs": [
        {
          "output_type": "stream",
          "name": "stdout",
          "text": [
            "[nltk_data] Downloading package stopwords to /root/nltk_data...\n",
            "[nltk_data]   Package stopwords is already up-to-date!\n"
          ]
        }
      ]
    },
    {
      "cell_type": "markdown",
      "source": [
        "# Bag of Words(BoW)"
      ],
      "metadata": {
        "id": "XfZDbzzlXRqr"
      }
    },
    {
      "cell_type": "code",
      "source": [
        "from sklearn.feature_extraction.text import CountVectorizer\n",
        "vectorizer = CountVectorizer()\n",
        "X = vectorizer.fit_transform(corpus).toarray() \n",
        "y = df.iloc[:, 7].values"
      ],
      "metadata": {
        "id": "lPzs43E_XNIu"
      },
      "execution_count": 41,
      "outputs": []
    },
    {
      "cell_type": "code",
      "source": [
        "print(y)"
      ],
      "metadata": {
        "colab": {
          "base_uri": "https://localhost:8080/"
        },
        "id": "W5wv_uzgXbFT",
        "outputId": "7c7cbbc3-8b7b-4a5a-af27-931e772fce59"
      },
      "execution_count": 42,
      "outputs": [
        {
          "output_type": "stream",
          "name": "stdout",
          "text": [
            "['Atlanta' 'Atlanta' 'Atlanta' ... 'New York' 'Chicago' 'Los Angeles']\n"
          ]
        }
      ]
    },
    {
      "cell_type": "markdown",
      "source": [
        "# Encoding the dependent Variable"
      ],
      "metadata": {
        "id": "Uudo4CNvXeED"
      }
    },
    {
      "cell_type": "code",
      "source": [
        "from sklearn.preprocessing import LabelEncoder\n",
        "le = LabelEncoder()\n",
        "y=le.fit_transform(y)"
      ],
      "metadata": {
        "id": "o2HloNR8c-xF"
      },
      "execution_count": 43,
      "outputs": []
    },
    {
      "cell_type": "markdown",
      "source": [
        "#Splitting of the dataset into test and train"
      ],
      "metadata": {
        "id": "1kxDvNtybw6S"
      }
    },
    {
      "cell_type": "code",
      "source": [
        "from sklearn.model_selection import train_test_split\n",
        "X_train, X_test, y_train, y_test = train_test_split(X, y, test_size = 0.2, random_state = 0)"
      ],
      "metadata": {
        "id": "QgOG-77fbxts"
      },
      "execution_count": 44,
      "outputs": []
    },
    {
      "cell_type": "markdown",
      "source": [
        "#Training the Naive Bayes model on the Training set"
      ],
      "metadata": {
        "id": "tFAKv20wb38M"
      }
    },
    {
      "cell_type": "code",
      "source": [
        "from sklearn.naive_bayes import GaussianNB\n",
        "classifier = GaussianNB()\n",
        "classifier.fit(X_train, y_train)"
      ],
      "metadata": {
        "colab": {
          "base_uri": "https://localhost:8080/"
        },
        "id": "lNbxY6mNb47L",
        "outputId": "555d721c-ea74-46f7-a48b-96fee6d3265c"
      },
      "execution_count": 45,
      "outputs": [
        {
          "output_type": "execute_result",
          "data": {
            "text/plain": [
              "GaussianNB()"
            ]
          },
          "metadata": {},
          "execution_count": 45
        }
      ]
    },
    {
      "cell_type": "markdown",
      "source": [
        "#Predicting the Test set results"
      ],
      "metadata": {
        "id": "EVPnJnY4b-HI"
      }
    },
    {
      "cell_type": "code",
      "source": [
        "y_pred = classifier.predict(X_test)\n",
        "print(np.concatenate((y_pred.reshape(len(y_pred),1), y_test.reshape(len(y_test),1)),1))"
      ],
      "metadata": {
        "colab": {
          "base_uri": "https://localhost:8080/"
        },
        "id": "y8hnCSbCb_LX",
        "outputId": "fbcecbac-674c-4348-f660-8e4f5bdd7f28"
      },
      "execution_count": 46,
      "outputs": [
        {
          "output_type": "stream",
          "name": "stdout",
          "text": [
            "[[6 7]\n",
            " [5 5]\n",
            " [5 0]\n",
            " [5 5]\n",
            " [5 5]\n",
            " [1 7]\n",
            " [5 8]\n",
            " [5 5]\n",
            " [6 5]\n",
            " [3 4]\n",
            " [5 1]\n",
            " [5 6]\n",
            " [5 6]\n",
            " [6 5]\n",
            " [7 6]\n",
            " [7 1]\n",
            " [5 5]\n",
            " [1 1]\n",
            " [5 0]\n",
            " [5 0]\n",
            " [4 5]\n",
            " [5 6]\n",
            " [5 5]\n",
            " [9 3]\n",
            " [5 6]\n",
            " [6 6]\n",
            " [1 5]\n",
            " [5 3]\n",
            " [5 3]\n",
            " [3 5]\n",
            " [5 0]\n",
            " [7 5]\n",
            " [3 1]\n",
            " [8 7]\n",
            " [5 8]\n",
            " [5 5]\n",
            " [5 2]\n",
            " [7 5]\n",
            " [1 5]\n",
            " [5 6]\n",
            " [2 2]\n",
            " [5 5]\n",
            " [6 0]\n",
            " [0 0]\n",
            " [1 2]\n",
            " [7 7]\n",
            " [7 6]\n",
            " [5 1]\n",
            " [1 4]\n",
            " [7 7]\n",
            " [5 3]\n",
            " [1 9]\n",
            " [5 6]\n",
            " [5 4]\n",
            " [0 5]\n",
            " [4 2]\n",
            " [7 4]\n",
            " [5 7]\n",
            " [5 3]\n",
            " [0 5]\n",
            " [5 8]\n",
            " [5 2]\n",
            " [5 5]\n",
            " [5 5]\n",
            " [1 9]\n",
            " [2 9]\n",
            " [5 5]\n",
            " [5 9]\n",
            " [9 7]\n",
            " [5 2]\n",
            " [5 6]\n",
            " [5 7]\n",
            " [5 7]\n",
            " [5 9]\n",
            " [6 3]\n",
            " [3 7]\n",
            " [5 5]\n",
            " [6 7]\n",
            " [6 9]\n",
            " [1 3]\n",
            " [6 5]\n",
            " [4 9]\n",
            " [7 5]\n",
            " [4 0]\n",
            " [4 2]\n",
            " [1 5]\n",
            " [5 7]\n",
            " [5 3]\n",
            " [2 7]\n",
            " [5 7]\n",
            " [9 5]\n",
            " [5 5]\n",
            " [0 0]\n",
            " [1 9]\n",
            " [6 7]\n",
            " [1 8]\n",
            " [9 6]\n",
            " [7 0]\n",
            " [1 8]\n",
            " [5 6]\n",
            " [5 5]\n",
            " [6 1]\n",
            " [4 5]\n",
            " [7 0]\n",
            " [6 6]\n",
            " [9 5]\n",
            " [3 4]\n",
            " [1 1]\n",
            " [1 7]\n",
            " [1 7]\n",
            " [5 5]\n",
            " [1 1]\n",
            " [4 2]\n",
            " [5 5]\n",
            " [5 8]\n",
            " [6 6]\n",
            " [7 3]\n",
            " [1 6]\n",
            " [5 7]\n",
            " [0 4]\n",
            " [5 5]\n",
            " [5 1]\n",
            " [5 5]\n",
            " [1 1]\n",
            " [1 0]\n",
            " [5 1]\n",
            " [5 6]\n",
            " [5 7]\n",
            " [5 5]\n",
            " [5 5]\n",
            " [5 5]\n",
            " [5 1]\n",
            " [8 6]\n",
            " [7 7]\n",
            " [5 5]\n",
            " [4 6]\n",
            " [5 9]\n",
            " [1 0]\n",
            " [5 5]\n",
            " [1 1]\n",
            " [5 0]\n",
            " [4 4]\n",
            " [5 5]\n",
            " [5 7]\n",
            " [1 5]\n",
            " [1 0]\n",
            " [5 1]\n",
            " [1 2]\n",
            " [5 8]\n",
            " [1 4]\n",
            " [1 5]\n",
            " [5 2]\n",
            " [1 4]\n",
            " [1 3]\n",
            " [2 4]\n",
            " [1 1]\n",
            " [7 6]\n",
            " [7 8]\n",
            " [3 9]\n",
            " [2 7]\n",
            " [6 6]\n",
            " [3 5]\n",
            " [5 6]\n",
            " [3 5]\n",
            " [1 4]\n",
            " [1 5]\n",
            " [5 5]\n",
            " [5 5]\n",
            " [6 6]\n",
            " [4 6]\n",
            " [1 8]\n",
            " [5 4]\n",
            " [6 5]\n",
            " [8 2]\n",
            " [1 0]\n",
            " [5 5]\n",
            " [3 9]\n",
            " [5 0]\n",
            " [5 7]\n",
            " [0 1]\n",
            " [1 9]\n",
            " [5 5]\n",
            " [5 9]\n",
            " [5 1]\n",
            " [9 5]\n",
            " [5 6]\n",
            " [6 8]\n",
            " [5 4]\n",
            " [2 2]\n",
            " [5 5]\n",
            " [5 6]\n",
            " [7 5]\n",
            " [7 3]\n",
            " [5 1]\n",
            " [5 6]\n",
            " [0 1]\n",
            " [5 0]\n",
            " [8 5]\n",
            " [5 9]\n",
            " [1 2]\n",
            " [6 1]\n",
            " [8 5]\n",
            " [5 2]\n",
            " [1 5]\n",
            " [4 5]\n",
            " [5 1]\n",
            " [1 1]\n",
            " [5 5]\n",
            " [3 5]\n",
            " [5 5]\n",
            " [2 5]\n",
            " [5 7]\n",
            " [1 4]\n",
            " [5 0]\n",
            " [9 5]\n",
            " [5 0]\n",
            " [6 6]\n",
            " [2 0]\n",
            " [5 9]\n",
            " [3 5]\n",
            " [5 5]\n",
            " [6 3]\n",
            " [5 2]\n",
            " [5 5]\n",
            " [5 5]\n",
            " [5 8]\n",
            " [1 5]\n",
            " [5 7]\n",
            " [5 6]\n",
            " [0 0]\n",
            " [1 5]\n",
            " [5 0]\n",
            " [5 7]\n",
            " [7 0]\n",
            " [7 7]\n",
            " [8 0]\n",
            " [1 1]\n",
            " [5 5]\n",
            " [1 0]\n",
            " [5 3]\n",
            " [5 5]\n",
            " [5 7]\n",
            " [5 4]\n",
            " [5 1]\n",
            " [5 0]\n",
            " [5 1]\n",
            " [9 6]\n",
            " [5 8]\n",
            " [4 7]\n",
            " [5 6]\n",
            " [1 8]\n",
            " [2 2]\n",
            " [5 5]\n",
            " [5 4]\n",
            " [6 5]\n",
            " [1 1]\n",
            " [5 1]\n",
            " [8 3]\n",
            " [5 1]\n",
            " [1 5]\n",
            " [2 8]\n",
            " [5 6]\n",
            " [5 5]\n",
            " [5 5]\n",
            " [0 5]\n",
            " [5 0]\n",
            " [5 6]\n",
            " [2 9]\n",
            " [5 3]\n",
            " [5 3]\n",
            " [1 1]\n",
            " [0 5]\n",
            " [4 9]\n",
            " [1 5]\n",
            " [5 3]\n",
            " [2 2]\n",
            " [7 4]\n",
            " [1 1]\n",
            " [9 9]\n",
            " [4 8]\n",
            " [8 4]\n",
            " [6 7]\n",
            " [5 9]\n",
            " [7 3]\n",
            " [5 1]\n",
            " [6 5]\n",
            " [5 5]\n",
            " [3 3]\n",
            " [0 1]\n",
            " [1 1]\n",
            " [1 5]\n",
            " [5 8]\n",
            " [3 5]\n",
            " [1 3]\n",
            " [5 5]\n",
            " [4 5]\n",
            " [2 5]\n",
            " [0 5]\n",
            " [7 9]\n",
            " [5 7]\n",
            " [1 5]\n",
            " [6 5]\n",
            " [5 7]\n",
            " [3 4]\n",
            " [6 1]]\n"
          ]
        }
      ]
    },
    {
      "cell_type": "markdown",
      "source": [
        "#Confusion matrix and Accuracy"
      ],
      "metadata": {
        "id": "_EDh9anBg6ng"
      }
    },
    {
      "cell_type": "code",
      "source": [
        "from sklearn.metrics import confusion_matrix\n",
        "confusion_matrix(y_test, y_pred)"
      ],
      "metadata": {
        "colab": {
          "base_uri": "https://localhost:8080/"
        },
        "id": "sYvTI-7zhAC_",
        "outputId": "dbabb71d-c5e9-421d-95d0-24032d750a5b"
      },
      "execution_count": 50,
      "outputs": [
        {
          "output_type": "execute_result",
          "data": {
            "text/plain": [
              "array([[ 3,  5,  1,  0,  1, 12,  1,  3,  1,  0],\n",
              "       [ 3, 12,  0,  1,  0, 14,  3,  1,  0,  0],\n",
              "       [ 0,  3,  4,  0,  3,  6,  0,  0,  1,  0],\n",
              "       [ 0,  3,  0,  1,  0,  9,  2,  3,  1,  1],\n",
              "       [ 1,  5,  1,  3,  1,  5,  0,  2,  1,  0],\n",
              "       [ 5, 13,  2,  6,  4, 41,  7,  4,  2,  4],\n",
              "       [ 0,  1,  0,  0,  2, 17,  6,  3,  1,  2],\n",
              "       [ 0,  3,  2,  1,  1, 15,  4,  4,  1,  1],\n",
              "       [ 0,  4,  1,  0,  1,  8,  1,  1,  0,  0],\n",
              "       [ 0,  4,  2,  2,  2,  7,  1,  1,  0,  1]])"
            ]
          },
          "metadata": {},
          "execution_count": 50
        }
      ]
    },
    {
      "cell_type": "code",
      "source": [
        "from sklearn.metrics import confusion_matrix,accuracy_score\n",
        "accuracy_score(y_test, y_pred)"
      ],
      "metadata": {
        "colab": {
          "base_uri": "https://localhost:8080/"
        },
        "id": "miAWOONShsF2",
        "outputId": "c581db43-370c-450a-a569-a3ad16ac8fa2"
      },
      "execution_count": 51,
      "outputs": [
        {
          "output_type": "execute_result",
          "data": {
            "text/plain": [
              "0.23934426229508196"
            ]
          },
          "metadata": {},
          "execution_count": 51
        }
      ]
    }
  ]
}